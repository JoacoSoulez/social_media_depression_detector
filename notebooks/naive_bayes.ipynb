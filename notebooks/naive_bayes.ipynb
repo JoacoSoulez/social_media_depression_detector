{
 "cells": [
  {
   "cell_type": "code",
   "execution_count": null,
   "id": "f03af858-c7ce-4720-9064-ceb4449849d2",
   "metadata": {},
   "outputs": [],
   "source": [
    "%run data.ipynb\n",
    "%run Clean_Tweets_preprocessing.ipynb"
   ]
  },
  {
   "cell_type": "code",
   "execution_count": null,
   "id": "9aac8ae7",
   "metadata": {},
   "outputs": [],
   "source": [
    "from sklearn.feature_extraction.text import CountVectorizer\n",
    "from sklearn.feature_extraction.text import TfidfVectorizer\n",
    "from sklearn.naive_bayes import MultinomialNB\n",
    "from sklearn.pipeline import Pipeline\n",
    "from sklearn.model_selection import cross_val_score\n",
    "from sklearn.model_selection import GridSearchCV\n",
    "from sklearn.metrics import recall_score\n",
    "from sklearn.metrics import precision_score\n",
    "from sklearn.metrics import f1_score\n",
    "from sklearn.metrics import roc_auc_score"
   ]
  },
  {
   "cell_type": "code",
   "execution_count": null,
   "id": "0155e432-4dd2-440b-aadc-582f6c76bb4d",
   "metadata": {},
   "outputs": [],
   "source": [
    "data = get_tweets_and_reddit()\n",
    "\n",
    "data.loc[:,'text'] = clean_text(data['text'])"
   ]
  },
  {
   "cell_type": "code",
   "execution_count": null,
   "id": "cc3b57a0",
   "metadata": {},
   "outputs": [],
   "source": [
    "data.to_csv('../../raw_data/twitter_reddit_clean.csv')"
   ]
  },
  {
   "cell_type": "code",
   "execution_count": null,
   "id": "29b9f889-6984-4e50-9ed8-b410f503549c",
   "metadata": {},
   "outputs": [],
   "source": [
    "data['label'].value_counts()"
   ]
  },
  {
   "cell_type": "markdown",
   "id": "3d8b4bce",
   "metadata": {},
   "source": [
    "# Holdout method"
   ]
  },
  {
   "cell_type": "code",
   "execution_count": null,
   "id": "a8d6854c",
   "metadata": {},
   "outputs": [],
   "source": [
    "from sklearn.model_selection import train_test_split\n",
    "\n",
    "X = data['text'].values\n",
    "y= data['label'].values\n",
    "\n",
    "X_train, X_test, y_train, y_test = train_test_split(X,y,test_size=0.3)"
   ]
  },
  {
   "cell_type": "markdown",
   "id": "7720a883",
   "metadata": {},
   "source": [
    "# Model baseline"
   ]
  },
  {
   "cell_type": "code",
   "execution_count": null,
   "id": "9fca5216",
   "metadata": {},
   "outputs": [],
   "source": [
    "# Create Pipeline\n",
    "pipeline = Pipeline([\n",
    "    ('tfidf', TfidfVectorizer()),\n",
    "    ('nb', MultinomialNB())\n",
    "])\n",
    "\n",
    "cross_val_score(estimator=pipeline,\n",
    "               X=X_train,\n",
    "               y=y_train,\n",
    "               scoring='f1',\n",
    "               cv=5,\n",
    "               n_jobs=-1).mean()"
   ]
  },
  {
   "cell_type": "markdown",
   "id": "c8e7d4d0",
   "metadata": {},
   "source": [
    "# Tunning Model"
   ]
  },
  {
   "cell_type": "code",
   "execution_count": null,
   "id": "1a85c8d6",
   "metadata": {},
   "outputs": [],
   "source": [
    "pipeline.get_params()"
   ]
  },
  {
   "cell_type": "code",
   "execution_count": null,
   "id": "dcb9a065",
   "metadata": {},
   "outputs": [],
   "source": [
    "params = {\n",
    "    'tfidf__max_df': [1.0,0.8],\n",
    "    'tfidf__max_features' : [None,100,1000],\n",
    "    'tfidf__min_df': [1,0.5],\n",
    "    'tfidf__ngram_range': [(1,1),(1,2)],\n",
    "    'nb__alpha': [1]\n",
    "}\n",
    "\n",
    "search = GridSearchCV(estimator=pipeline,\n",
    "                     n_jobs=-1,\n",
    "                     scoring='f1',\n",
    "                     param_grid=params)\n",
    "\n",
    "search.fit(X_train,y_train)"
   ]
  },
  {
   "cell_type": "code",
   "execution_count": null,
   "id": "fa6b57f5",
   "metadata": {},
   "outputs": [],
   "source": [
    "search.best_params_"
   ]
  },
  {
   "cell_type": "code",
   "execution_count": null,
   "id": "fc20033d",
   "metadata": {},
   "outputs": [],
   "source": [
    "search.best_score_"
   ]
  },
  {
   "cell_type": "markdown",
   "id": "56618173",
   "metadata": {},
   "source": [
    "# Test the model in the test set"
   ]
  },
  {
   "cell_type": "code",
   "execution_count": null,
   "id": "596ed7ff",
   "metadata": {},
   "outputs": [],
   "source": [
    "best_model = search.best_estimator_\n",
    "\n",
    "y_pred = best_model.predict(X_test)\n",
    "\n",
    "f1_score(y_test, y_pred)"
   ]
  },
  {
   "cell_type": "markdown",
   "id": "615391d2",
   "metadata": {},
   "source": [
    "## Classification Report"
   ]
  },
  {
   "cell_type": "code",
   "execution_count": null,
   "id": "d784bc31",
   "metadata": {},
   "outputs": [],
   "source": [
    "from sklearn.metrics import classification_report\n",
    "\n",
    "print(classification_report(y_test,y_pred))"
   ]
  },
  {
   "cell_type": "code",
   "execution_count": null,
   "id": "4c531301",
   "metadata": {},
   "outputs": [],
   "source": [
    "from sklearn.metrics import plot_confusion_matrix\n",
    "\n",
    "plot_confusion_matrix(estimator=best_model,\n",
    "                     X=X_test,\n",
    "                     y_true=y_test)"
   ]
  }
 ],
 "metadata": {
  "kernelspec": {
   "display_name": "Python 3 (ipykernel)",
   "language": "python",
   "name": "python3"
  },
  "language_info": {
   "codemirror_mode": {
    "name": "ipython",
    "version": 3
   },
   "file_extension": ".py",
   "mimetype": "text/x-python",
   "name": "python",
   "nbconvert_exporter": "python",
   "pygments_lexer": "ipython3",
   "version": "3.8.12"
  },
  "toc": {
   "base_numbering": 1,
   "nav_menu": {},
   "number_sections": true,
   "sideBar": true,
   "skip_h1_title": false,
   "title_cell": "Table of Contents",
   "title_sidebar": "Contents",
   "toc_cell": false,
   "toc_position": {},
   "toc_section_display": true,
   "toc_window_display": false
  }
 },
 "nbformat": 4,
 "nbformat_minor": 5
}
